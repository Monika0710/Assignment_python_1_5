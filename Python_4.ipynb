{
 "cells": [
  {
   "cell_type": "markdown",
   "metadata": {},
   "source": [
    "##### 1. Write a Python Program(with class concepts) to find the area of the triangle using the below  formula\n",
    "\n",
    "area = (s*(s-a)*(s-b)*(s-c)) ** 0.5\n"
   ]
  },
  {
   "cell_type": "code",
   "execution_count": 2,
   "metadata": {},
   "outputs": [
    {
     "name": "stdout",
     "output_type": "stream",
     "text": [
      "Area of trinagle is 162.38\n"
     ]
    }
   ],
   "source": [
    "class Sides:\n",
    "    def __init__(self,s1,s2,s3):\n",
    "        self.s1 =s1\n",
    "        self.s2 =s2\n",
    "        self.s3=s3\n",
    "        \n",
    "class TrianArea(Sides):\n",
    "    def __init__(self,a,b,c):\n",
    "        Sides.__init__(self,a,b,c)\n",
    "    def Area(self):\n",
    "        a =self.s1\n",
    "        b=self.s2\n",
    "        c=self.s3\n",
    "\n",
    "        s =(a+b+c)*0.5\n",
    "        t_area =(s*(s-a)*(s-b)*(s-c))**0.5\n",
    "        print(\"Area of trinagle is %.02f\" %t_area)\n",
    "\n",
    "\n",
    "t1 =TrianArea(15,25,35)\n",
    "t1.Area()"
   ]
  },
  {
   "cell_type": "markdown",
   "metadata": {},
   "source": [
    "##### 2. Write a function filter_long_words() that takes a list of words and an integer n and returns the list of words that are longer than n."
   ]
  },
  {
   "cell_type": "code",
   "execution_count": 3,
   "metadata": {},
   "outputs": [
    {
     "name": "stdout",
     "output_type": "stream",
     "text": [
      "['Monika', 'Bhawna', 'Nitika']\n"
     ]
    }
   ],
   "source": [
    "def filter_long_words(list_w,n):\n",
    "    list_1 =list()\n",
    "    for i in list_w:\n",
    "        if (len(i) > n):\n",
    "            list_1.append(i)\n",
    "    print(list_1)\n",
    "    \n",
    "filter_long_words(['Anju','Monika','Bhawna','Nitika'],4)\n"
   ]
  },
  {
   "cell_type": "markdown",
   "metadata": {},
   "source": [
    "##### 3. Write a Python program using function concept that maps list of words into a list of integers representing the lengths of the corresponding words."
   ]
  },
  {
   "cell_type": "code",
   "execution_count": 4,
   "metadata": {},
   "outputs": [
    {
     "name": "stdout",
     "output_type": "stream",
     "text": [
      "[4, 9, 5, 8]\n"
     ]
    }
   ],
   "source": [
    "list_1 =list()\n",
    "lst =['Moni','Monikaaaa','djnkn','cdcdccdc']\n",
    "for i in lst:\n",
    "    list_1.append(len(i))\n",
    "print(list_1)"
   ]
  },
  {
   "cell_type": "markdown",
   "metadata": {},
   "source": [
    "##### 4. Write a Python function which takes a character (i.e. a string of length 1) and returns True if it is a vowel, False otherwise."
   ]
  },
  {
   "cell_type": "code",
   "execution_count": 7,
   "metadata": {},
   "outputs": [
    {
     "name": "stdout",
     "output_type": "stream",
     "text": [
      "Enter the charatcter : a\n",
      "Its vowel\n"
     ]
    }
   ],
   "source": [
    "lst_vowel =['a','e','i','o','u']\n",
    "\n",
    "def Check_Vowel():\n",
    "    chrc =str(input(\"Enter the charatcter : \"))\n",
    "    if (chrc.lower() in lst_vowel):\n",
    "        print(\"Its vowel\")\n",
    "    else:\n",
    "        print(\"Its not vowel\")\n",
    "        \n",
    "Check_Vowel()  "
   ]
  }
 ],
 "metadata": {
  "kernelspec": {
   "display_name": "Python 3",
   "language": "python",
   "name": "python3"
  },
  "language_info": {
   "codemirror_mode": {
    "name": "ipython",
    "version": 3
   },
   "file_extension": ".py",
   "mimetype": "text/x-python",
   "name": "python",
   "nbconvert_exporter": "python",
   "pygments_lexer": "ipython3",
   "version": "3.7.1"
  }
 },
 "nbformat": 4,
 "nbformat_minor": 2
}
